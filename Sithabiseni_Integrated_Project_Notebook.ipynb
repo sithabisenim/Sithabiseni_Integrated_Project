{
 "cells": [
  {
   "cell_type": "markdown",
   "metadata": {},
   "source": [
    "# Insurance Fraud Analysis and Data Preparation for Power BI\n"
   ]
  },
  {
   "cell_type": "markdown",
   "metadata": {},
   "source": [
    "## Problem Statement:"
   ]
  },
  {
   "cell_type": "markdown",
   "metadata": {},
   "source": [
    "TrustGuard Insurance is facing significant financial losses due to fraudulent claims, which account for 15% of total claim payouts—well above the industry average of 5%. The company processes over 100,000 claims annually, with a total payout of approximately 1 billion. The goal is to identify fraudulent claims early in the process, saving millions, and reducing delays in processing legitimate claims.\n",
    "This dashboard aims to help TrustGuard Insurance identify patterns, detect anomalies, and make data-driven decisions to reduce fraudulent claims while ensuring fair and fast processing for legitimate ones. This can be used in African context to improve insurance companies profits."
   ]
  },
  {
   "cell_type": "markdown",
   "metadata": {},
   "source": [
    "## Import necessary libraries"
   ]
  },
  {
   "cell_type": "code",
   "execution_count": 2,
   "metadata": {},
   "outputs": [],
   "source": [
    "import pandas as pd\n",
    "import numpy as np\n",
    "import seaborn as sns\n",
    "import matplotlib.pyplot as plt\n"
   ]
  },
  {
   "cell_type": "markdown",
   "metadata": {},
   "source": [
    "## Load the dataset"
   ]
  },
  {
   "cell_type": "code",
   "execution_count": 3,
   "metadata": {},
   "outputs": [],
   "source": [
    "data = pd.read_csv(\"insurance_claims.csv\")"
   ]
  },
  {
   "cell_type": "markdown",
   "metadata": {},
   "source": [
    "## Display the first few rows to understand the structure of the dataset"
   ]
  },
  {
   "cell_type": "code",
   "execution_count": 4,
   "metadata": {},
   "outputs": [
    {
     "name": "stdout",
     "output_type": "stream",
     "text": [
      "\n",
      "--- First 5 Rows of the Dataset ---\n",
      "   months_as_customer  age  policy_number policy_bind_date policy_state  \\\n",
      "0                 328   48         521585       2014-10-17           OH   \n",
      "1                 228   42         342868       2006-06-27           IN   \n",
      "2                 134   29         687698       2000-09-06           OH   \n",
      "3                 256   41         227811       1990-05-25           IL   \n",
      "4                 228   44         367455       2014-06-06           IL   \n",
      "\n",
      "  policy_csl  policy_deductable  policy_annual_premium  umbrella_limit  \\\n",
      "0    250/500               1000                1406.91               0   \n",
      "1    250/500               2000                1197.22         5000000   \n",
      "2    100/300               2000                1413.14         5000000   \n",
      "3    250/500               2000                1415.74         6000000   \n",
      "4   500/1000               1000                1583.91         6000000   \n",
      "\n",
      "   insured_zip  ... police_report_available total_claim_amount injury_claim  \\\n",
      "0       466132  ...                     YES              71610         6510   \n",
      "1       468176  ...                       ?               5070          780   \n",
      "2       430632  ...                      NO              34650         7700   \n",
      "3       608117  ...                      NO              63400         6340   \n",
      "4       610706  ...                      NO               6500         1300   \n",
      "\n",
      "  property_claim vehicle_claim  auto_make  auto_model auto_year  \\\n",
      "0          13020         52080       Saab         92x      2004   \n",
      "1            780          3510   Mercedes        E400      2007   \n",
      "2           3850         23100      Dodge         RAM      2007   \n",
      "3           6340         50720  Chevrolet       Tahoe      2014   \n",
      "4            650          4550     Accura         RSX      2009   \n",
      "\n",
      "  fraud_reported _c39  \n",
      "0              Y  NaN  \n",
      "1              Y  NaN  \n",
      "2              N  NaN  \n",
      "3              Y  NaN  \n",
      "4              N  NaN  \n",
      "\n",
      "[5 rows x 40 columns]\n"
     ]
    }
   ],
   "source": [
    "print(\"\\n--- First 5 Rows of the Dataset ---\")\n",
    "print(data.head())"
   ]
  },
  {
   "cell_type": "markdown",
   "metadata": {},
   "source": [
    "## Check for missing values"
   ]
  },
  {
   "cell_type": "code",
   "execution_count": 5,
   "metadata": {},
   "outputs": [
    {
     "name": "stdout",
     "output_type": "stream",
     "text": [
      "\n",
      "--- Missing Values in Each Column ---\n",
      "months_as_customer                0\n",
      "age                               0\n",
      "policy_number                     0\n",
      "policy_bind_date                  0\n",
      "policy_state                      0\n",
      "policy_csl                        0\n",
      "policy_deductable                 0\n",
      "policy_annual_premium             0\n",
      "umbrella_limit                    0\n",
      "insured_zip                       0\n",
      "insured_sex                       0\n",
      "insured_education_level           0\n",
      "insured_occupation                0\n",
      "insured_hobbies                   0\n",
      "insured_relationship              0\n",
      "capital-gains                     0\n",
      "capital-loss                      0\n",
      "incident_date                     0\n",
      "incident_type                     0\n",
      "collision_type                    0\n",
      "incident_severity                 0\n",
      "authorities_contacted            91\n",
      "incident_state                    0\n",
      "incident_city                     0\n",
      "incident_location                 0\n",
      "incident_hour_of_the_day          0\n",
      "number_of_vehicles_involved       0\n",
      "property_damage                   0\n",
      "bodily_injuries                   0\n",
      "witnesses                         0\n",
      "police_report_available           0\n",
      "total_claim_amount                0\n",
      "injury_claim                      0\n",
      "property_claim                    0\n",
      "vehicle_claim                     0\n",
      "auto_make                         0\n",
      "auto_model                        0\n",
      "auto_year                         0\n",
      "fraud_reported                    0\n",
      "_c39                           1000\n",
      "dtype: int64\n"
     ]
    }
   ],
   "source": [
    "print(\"\\n--- Missing Values in Each Column ---\")\n",
    "print(data.isnull().sum())"
   ]
  },
  {
   "cell_type": "markdown",
   "metadata": {},
   "source": [
    "## Fill missing values"
   ]
  },
  {
   "cell_type": "code",
   "execution_count": 6,
   "metadata": {},
   "outputs": [],
   "source": [
    "data['fraud_reported'] = data['fraud_reported'].fillna('N')  # Assume 'N' for missing fraud indicators\n",
    "data['witnesses'] = data['witnesses'].fillna(0)              # Replace missing witnesses with 0\n",
    "data['property_damage'] = data['property_damage'].fillna('NO') # Assume 'NO' for missing property damage reports"
   ]
  },
  {
   "cell_type": "markdown",
   "metadata": {},
   "source": [
    "## Create new feature: claim_to_premium_ratio"
   ]
  },
  {
   "cell_type": "code",
   "execution_count": 7,
   "metadata": {},
   "outputs": [],
   "source": [
    "data['claim_to_premium_ratio'] = data['total_claim_amount'] / data['policy_annual_premium']"
   ]
  },
  {
   "cell_type": "markdown",
   "metadata": {},
   "source": [
    "## Display summary statistics"
   ]
  },
  {
   "cell_type": "code",
   "execution_count": 7,
   "metadata": {},
   "outputs": [
    {
     "name": "stdout",
     "output_type": "stream",
     "text": [
      "\n",
      "--- Summary Statistics ---\n",
      "       months_as_customer          age  policy_number  policy_deductable  \\\n",
      "count         1000.000000  1000.000000    1000.000000        1000.000000   \n",
      "mean           203.954000    38.948000  546238.648000        1136.000000   \n",
      "std            115.113174     9.140287  257063.005276         611.864673   \n",
      "min              0.000000    19.000000  100804.000000         500.000000   \n",
      "25%            115.750000    32.000000  335980.250000         500.000000   \n",
      "50%            199.500000    38.000000  533135.000000        1000.000000   \n",
      "75%            276.250000    44.000000  759099.750000        2000.000000   \n",
      "max            479.000000    64.000000  999435.000000        2000.000000   \n",
      "\n",
      "       policy_annual_premium  umbrella_limit    insured_zip  capital-gains  \\\n",
      "count            1000.000000    1.000000e+03    1000.000000    1000.000000   \n",
      "mean             1256.406150    1.101000e+06  501214.488000   25126.100000   \n",
      "std               244.167395    2.297407e+06   71701.610941   27872.187708   \n",
      "min               433.330000   -1.000000e+06  430104.000000       0.000000   \n",
      "25%              1089.607500    0.000000e+00  448404.500000       0.000000   \n",
      "50%              1257.200000    0.000000e+00  466445.500000       0.000000   \n",
      "75%              1415.695000    0.000000e+00  603251.000000   51025.000000   \n",
      "max              2047.590000    1.000000e+07  620962.000000  100500.000000   \n",
      "\n",
      "        capital-loss  incident_hour_of_the_day  number_of_vehicles_involved  \\\n",
      "count    1000.000000               1000.000000                   1000.00000   \n",
      "mean   -26793.700000                 11.644000                      1.83900   \n",
      "std     28104.096686                  6.951373                      1.01888   \n",
      "min   -111100.000000                  0.000000                      1.00000   \n",
      "25%    -51500.000000                  6.000000                      1.00000   \n",
      "50%    -23250.000000                 12.000000                      1.00000   \n",
      "75%         0.000000                 17.000000                      3.00000   \n",
      "max         0.000000                 23.000000                      4.00000   \n",
      "\n",
      "       bodily_injuries    witnesses  total_claim_amount  injury_claim  \\\n",
      "count      1000.000000  1000.000000          1000.00000   1000.000000   \n",
      "mean          0.992000     1.487000         52761.94000   7433.420000   \n",
      "std           0.820127     1.111335         26401.53319   4880.951853   \n",
      "min           0.000000     0.000000           100.00000      0.000000   \n",
      "25%           0.000000     1.000000         41812.50000   4295.000000   \n",
      "50%           1.000000     1.000000         58055.00000   6775.000000   \n",
      "75%           2.000000     2.000000         70592.50000  11305.000000   \n",
      "max           2.000000     3.000000        114920.00000  21450.000000   \n",
      "\n",
      "       property_claim  vehicle_claim    auto_year  _c39  \\\n",
      "count     1000.000000    1000.000000  1000.000000   0.0   \n",
      "mean      7399.570000   37928.950000  2005.103000   NaN   \n",
      "std       4824.726179   18886.252893     6.015861   NaN   \n",
      "min          0.000000      70.000000  1995.000000   NaN   \n",
      "25%       4445.000000   30292.500000  2000.000000   NaN   \n",
      "50%       6750.000000   42100.000000  2005.000000   NaN   \n",
      "75%      10885.000000   50822.500000  2010.000000   NaN   \n",
      "max      23670.000000   79560.000000  2015.000000   NaN   \n",
      "\n",
      "       claim_to_premium_ratio  \n",
      "count             1000.000000  \n",
      "mean                43.771088  \n",
      "std                 24.641878  \n",
      "min                  0.067452  \n",
      "25%                 32.353492  \n",
      "50%                 44.975200  \n",
      "75%                 58.689165  \n",
      "max                157.988148  \n"
     ]
    }
   ],
   "source": [
    "print(\"\\n--- Summary Statistics ---\")\n",
    "print(data.describe())"
   ]
  },
  {
   "cell_type": "markdown",
   "metadata": {},
   "source": [
    "## Visualize distributions of key variables"
   ]
  },
  {
   "cell_type": "code",
   "execution_count": 8,
   "metadata": {},
   "outputs": [
    {
     "data": {
      "image/png": "[encoded data removed]",
      "text/plain": [
       "<Figure size 1000x600 with 1 Axes>"
      ]
     },
     "metadata": {},
     "output_type": "display_data"
    }
   ],
   "source": [
    "plt.figure(figsize=(10, 6))\n",
    "sns.countplot(data=data, x='fraud_reported')\n",
    "plt.title(\"Fraudulent vs. Legitimate Claims\")\n",
    "plt.xlabel(\"Fraud Reported\")\n",
    "plt.ylabel(\"Count\")\n",
    "plt.show()\n"
   ]
  },
  {
   "cell_type": "markdown",
   "metadata": {},
   "source": [
    "## Export cleaned data for Power BI"
   ]
  },
  {
   "cell_type": "code",
   "execution_count": 10,
   "metadata": {},
   "outputs": [
    {
     "name": "stdout",
     "output_type": "stream",
     "text": [
      "\n",
      "Cleaned data has been saved to cleaned_insurance_claims.csv\n"
     ]
    }
   ],
   "source": [
    "cleaned_data_file = \"cleaned_insurance_claims.csv\"\n",
    "data.to_csv(cleaned_data_file, index=False)\n",
    "print(f\"\\nCleaned data has been saved to {cleaned_data_file}\")"
   ]
  },
  {
   "cell_type": "markdown",
   "metadata": {},
   "source": [
    "# Power BI Analysis"
   ]
  },
  {
   "cell_type": "markdown",
   "metadata": {},
   "source": [
    "![Description of Image](Fraud_by_Customer_Demographics.png)\n"
   ]
  },
  {
   "cell_type": "markdown",
   "metadata": {},
   "source": [
    "## 1. Fraud by Customer Demographics\n",
    "**Business Value:**  \n",
    "This visual identifies demographic trends in fraudulent claims, enabling targeted anti-fraud measures and personalized customer strategies.\n",
    "\n",
    "**Analytical Example:**  \n",
    "If analysis reveals that customers in certain occupations (e.g., machine-op-inspct in this case) file 20% more fraudulent claims than others, the company can flag claims from this group for further investigation. Additionally, stricter verification protocols could be implemented for these segments.\n"
   ]
  },
  {
   "cell_type": "markdown",
   "metadata": {},
   "source": [
    "![Description of Image](Fraud_Hotspots.png)\n"
   ]
  },
  {
   "cell_type": "markdown",
   "metadata": {},
   "source": [
    "## 2. Fraud Hotspots\n",
    "**Business Value:**  \n",
    "Identifying geographic hotspots for fraudulent claims allows the company to allocate resources efficiently and implement targeted interventions in high-risk areas.\n",
    "\n",
    "**Analytical Example:**  \n",
    "If South Carolina accounts for 15% of all fraudulent claims, with specific cities reporting the highest numbers, the company can deploy more fraud analysts and improve verification processes in those areas."
   ]
  },
  {
   "cell_type": "markdown",
   "metadata": {},
   "source": [
    "![Description of Image](Fraud_by_Incident_Attributes.png)\n"
   ]
  },
  {
   "cell_type": "markdown",
   "metadata": {},
   "source": [
    "## 3. Fraud by Incident Attributes\n",
    "**Business Value:**  \n",
    "This visual helps identify which incident types or severity levels are most associated with fraud, enabling the company to allocate resources effectively and prioritize investigations.\n",
    "\n",
    "**Analytical Example:**  \n",
    "If Minor Damage incidents account for higher of all fraudulent claims, the company can implement enhanced Minor Damage processes and focus anti-fraud efforts on these cases.\n"
   ]
  },
  {
   "cell_type": "markdown",
   "metadata": {},
   "source": [
    "![Description of Image](Incident_Time_Analysis.png)\n"
   ]
  },
  {
   "cell_type": "markdown",
   "metadata": {},
   "source": [
    "## 4. Incident Time Analysis\n",
    "**Business Value:**  \n",
    "This visual highlights temporal patterns in fraudulent claims, allowing the company to predict and prepare for peak fraud periods.\n",
    "\n",
    "**Analytical Example:**  \n",
    "If fraudulent claims spike during nighttime (10 AM–5 PM) or during specific seasons, the company can adjust staffing and enhance fraud detection during these times.\n"
   ]
  },
  {
   "cell_type": "markdown",
   "metadata": {},
   "source": [
    "![Description of Image](Claims_vs._Payouts.png)\n"
   ]
  },
  {
   "cell_type": "markdown",
   "metadata": {},
   "source": [
    "## 5. Claims vs. Payouts\n",
    "**Business Value:**  \n",
    "This visual compares the distribution of total claims and payouts across different incident types, helping the company identify anomalies and assess the financial impact of fraud.\n",
    "\n",
    "**Analytical Example:**  \n",
    "If Rear-collision claims account for more of total payouts but have a high fraud rate, the company can focus fraud detection measures on Rear-collision-related claims. Conversely, low-risk claim types can be fast-tracked to improve operational efficiency."
   ]
  },
  {
   "cell_type": "markdown",
   "metadata": {},
   "source": [
    "![Description of Image](Fraud_Trends_by_Policy_Details.png)\n"
   ]
  },
  {
   "cell_type": "markdown",
   "metadata": {},
   "source": [
    "## 6. Fraud Trends by Policy Details\n",
    "**Business Value:**  \n",
    "This visual highlights which policy characteristics (e.g., state, coverage limits) are associated with higher fraud rates. It helps the company refine underwriting policies and risk assessments.\n",
    "\n",
    "**Analytical Example:**  \n",
    "If policies in a specific state (e.g., Ohio), the company can review policies in those segments and adjust premiums or introduce stricter claim validation protocols.\n"
   ]
  },
  {
   "cell_type": "markdown",
   "metadata": {},
   "source": [
    "."
   ]
  },
  {
   "cell_type": "markdown",
   "metadata": {},
   "source": [
    "\n",
    " ."
   ]
  },
  {
   "cell_type": "markdown",
   "metadata": {},
   "source": [
    "### Future Application in the African Context  \n",
    "\n",
    "The insights and methodologies from this fraud analysis report can be adapted to address challenges in the African insurance market, where fraud detection is a growing concern. Future applications could include:  \n",
    "\n",
    "1. **Localized Fraud Detection Models**  \n",
    "   By incorporating region-specific data such as socio-economic conditions, local regulations, and claim trends, insurers can build fraud detection models tailored to the African context.  \n",
    "\n",
    "2. **Geographic Hotspot Mapping**  \n",
    "   Identifying fraud hotspots in urban and rural areas can guide insurers in allocating resources efficiently and addressing region-specific risks. For instance, high fraud rates in densely populated cities can inform the deployment of specialized anti-fraud units.  \n",
    "\n",
    "3. **Demographic and Occupational Analysis**  \n",
    "   The report's approach to analyzing demographic trends can be applied to Africa’s diverse customer base. For example, understanding occupation-based risks or claim behaviors in informal sectors common in Africa could improve fraud prevention.  \n",
    "\n",
    "4. **Policy Adjustments for Informal Markets**  \n",
    "   Many African economies have significant informal markets. Insurers can use similar analytics to assess risk for this segment and design innovative, affordable policies with stricter validation protocols.  \n",
    "\n",
    "5. **Technology-Driven Solutions**  \n",
    "   Leveraging mobile technology, which is widely adopted in Africa, insurers can integrate real-time fraud detection algorithms and digital claim verification systems to reduce fraud.  \n",
    "\n",
    "6. **Capacity Building and Awareness**  \n",
    "   Insights from the report can help train local insurers in identifying fraud patterns while educating policyholders on the implications of fraudulent claims, fostering trust and reducing fraud prevalence.  \n",
    "\n",
    "By adapting these insights, insurers across Africa can enhance fraud prevention, protect their financial stability, and ensure sustainable growth in the insurance sector.\n"
   ]
  }
 ],
 "metadata": {
  "kernelspec": {
   "display_name": "myenv",
   "language": "python",
   "name": "python3"
  },
  "language_info": {
   "codemirror_mode": {
    "name": "ipython",
    "version": 3
   },
   "file_extension": ".py",
   "mimetype": "text/x-python",
   "name": "python",
   "nbconvert_exporter": "python",
   "pygments_lexer": "ipython3",
   "version": "3.9.1"
  }
 },
 "nbformat": 4,
 "nbformat_minor": 2
}
